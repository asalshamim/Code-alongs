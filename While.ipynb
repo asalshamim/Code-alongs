{
 "cells": [
  {
   "cell_type": "code",
   "execution_count": 4,
   "source": [
    "# skriva ut alla jämna tal mellan -10 och 10\r\n",
    "\r\n",
    "n=-10\r\n",
    "while n <= 10:\r\n",
    "    print(n, end=\" \")\r\n",
    "    n += 2"
   ],
   "outputs": [
    {
     "output_type": "stream",
     "name": "stdout",
     "text": [
      "-10 -8 -6 -4 -2 0 2 4 6 8 10 "
     ]
    }
   ],
   "metadata": {}
  },
  {
   "cell_type": "code",
   "execution_count": 6,
   "source": [
    "# summera alla udda tal mellan 0 och 10\r\n",
    "\r\n",
    "n= 1\r\n",
    "summa =0\r\n",
    "while n <= 10:\r\n",
    "    if n == 9:\r\n",
    "        print(\"9=\", end=\"\")\r\n",
    "    else:    \r\n",
    "        print(f\"{n}+\", end=\"\")\r\n",
    "    summa += n\r\n",
    "    n+= 2\r\n",
    "    print(summa)"
   ],
   "outputs": [
    {
     "output_type": "stream",
     "name": "stdout",
     "text": [
      "1+1\n",
      "3+4\n",
      "5+9\n",
      "7+16\n",
      "9=25\n"
     ]
    }
   ],
   "metadata": {}
  },
  {
   "cell_type": "markdown",
   "source": [
    "## fåglar och oljeutsläpp\r\n"
   ],
   "metadata": {}
  },
  {
   "cell_type": "code",
   "execution_count": 8,
   "source": [
    "birds = 8000\r\n",
    "year = 0\r\n",
    "while birds >= 800:\r\n",
    "    birds /= 2\r\n",
    "    year += 1\r\n",
    "    print(f\"År {year}: antal fåglar: {birds:.0f}st\")\r\n"
   ],
   "outputs": [
    {
     "output_type": "stream",
     "name": "stdout",
     "text": [
      "År 1: antal fåglar: 4000st\n",
      "År 2: antal fåglar: 2000st\n",
      "År 3: antal fåglar: 1000st\n",
      "År 4: antal fåglar: 500st\n"
     ]
    }
   ],
   "metadata": {}
  },
  {
   "cell_type": "code",
   "execution_count": 1,
   "source": [
    "#skriva mellan -10 och 10\r\n",
    "\r\n",
    "n= -10\r\n",
    "while n <= 10:\r\n",
    "    print(n, end =\", \")\r\n",
    "    n+= 1"
   ],
   "outputs": [
    {
     "output_type": "stream",
     "name": "stdout",
     "text": [
      "-10, -9, -8, -7, -6, -5, -4, -3, -2, -1, 0, 1, 2, 3, 4, 5, 6, 7, 8, 9, 10, "
     ]
    }
   ],
   "metadata": {}
  },
  {
   "cell_type": "markdown",
   "source": [
    "## Mjölkuppgift\r\n",
    "- 1L mjölk 1 500 000 bakterier i rumstemperatur\r\n",
    "- Bakteries ökar med 50% per timme i rumstemp\r\n",
    "- Mjölk surnar när vi har mer än 10 000 000 st bakterier\r\n",
    "- hur många timmar tar det tills mjölken surnar?"
   ],
   "metadata": {}
  }
 ],
 "metadata": {
  "orig_nbformat": 4,
  "language_info": {
   "name": "python",
   "version": "3.9.6",
   "mimetype": "text/x-python",
   "codemirror_mode": {
    "name": "ipython",
    "version": 3
   },
   "pygments_lexer": "ipython3",
   "nbconvert_exporter": "python",
   "file_extension": ".py"
  },
  "kernelspec": {
   "name": "python3",
   "display_name": "Python 3.9.6 64-bit"
  },
  "interpreter": {
   "hash": "5a5fe90e65c548f81cb78b086af2a72a1ccb18c5803a011cbeaa15cf0cb151fe"
  }
 },
 "nbformat": 4,
 "nbformat_minor": 2
}