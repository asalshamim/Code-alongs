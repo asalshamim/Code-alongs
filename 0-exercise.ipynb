{
 "cells": [
  {
   "cell_type": "markdown",
   "source": [
    " Pythagorean theorem"
   ],
   "metadata": {}
  },
  {
   "cell_type": "code",
   "execution_count": 1,
   "source": [
    "a = 3\r\n",
    "b = 4\r\n",
    "c = (a**2 + b**2)**0.5\r\n",
    "print (c)"
   ],
   "outputs": [
    {
     "output_type": "stream",
     "name": "stdout",
     "text": [
      "5.0\n"
     ]
    }
   ],
   "metadata": {}
  },
  {
   "cell_type": "code",
   "execution_count": 2,
   "source": [
    "c= 7.0\r\n",
    "a = 5.0\r\n",
    "b= (c **2-a**2)**0.5\r\n",
    "print(round(b,2))"
   ],
   "outputs": [
    {
     "output_type": "stream",
     "name": "stdout",
     "text": [
      "4.9\n"
     ]
    }
   ],
   "metadata": {}
  },
  {
   "cell_type": "markdown",
   "source": [
    "Classification accuracy"
   ],
   "metadata": {}
  },
  {
   "cell_type": "code",
   "execution_count": 4,
   "source": [
    "a= 365\r\n",
    "b=300\r\n",
    "c=b/a*100\r\n",
    "print(f\"The correction percentage is {c}%\")"
   ],
   "outputs": [
    {
     "output_type": "stream",
     "name": "stdout",
     "text": [
      "The correction percentage is 82.1917808219178%\n"
     ]
    }
   ],
   "metadata": {}
  },
  {
   "cell_type": "markdown",
   "source": [
    " Classification accuracy "
   ],
   "metadata": {}
  },
  {
   "cell_type": "code",
   "execution_count": null,
   "source": [],
   "outputs": [],
   "metadata": {}
  }
 ],
 "metadata": {
  "orig_nbformat": 4,
  "language_info": {
   "name": "python",
   "version": "3.9.6",
   "mimetype": "text/x-python",
   "codemirror_mode": {
    "name": "ipython",
    "version": 3
   },
   "pygments_lexer": "ipython3",
   "nbconvert_exporter": "python",
   "file_extension": ".py"
  },
  "kernelspec": {
   "name": "python3",
   "display_name": "Python 3.9.6 64-bit"
  },
  "interpreter": {
   "hash": "5a5fe90e65c548f81cb78b086af2a72a1ccb18c5803a011cbeaa15cf0cb151fe"
  }
 },
 "nbformat": 4,
 "nbformat_minor": 2
}