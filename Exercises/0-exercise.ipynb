{
 "cells": [
  {
   "cell_type": "markdown",
   "source": [
    " 1️⃣ Pythagorean theorem"
   ],
   "metadata": {}
  },
  {
   "cell_type": "code",
   "execution_count": 1,
   "source": [
    "a = 3\r\n",
    "b = 4\r\n",
    "c = (a**2 + b**2)**0.5\r\n",
    "print (c)"
   ],
   "outputs": [
    {
     "output_type": "stream",
     "name": "stdout",
     "text": [
      "5.0\n"
     ]
    }
   ],
   "metadata": {}
  },
  {
   "cell_type": "code",
   "execution_count": 2,
   "source": [
    "c= 7.0\r\n",
    "a = 5.0\r\n",
    "b= (c **2-a**2)**0.5\r\n",
    "print(round(b,2))"
   ],
   "outputs": [
    {
     "output_type": "stream",
     "name": "stdout",
     "text": [
      "4.9\n"
     ]
    }
   ],
   "metadata": {}
  },
  {
   "cell_type": "markdown",
   "source": [
    "2️⃣ Classification accuracy"
   ],
   "metadata": {}
  },
  {
   "cell_type": "code",
   "execution_count": 30,
   "source": [
    "a= 365\r\n",
    "b=300\r\n",
    "c=b/a*100\r\n",
    "print(f\" percentage is {c}%\")"
   ],
   "outputs": [
    {
     "output_type": "stream",
     "name": "stdout",
     "text": [
      " percentage is 82.1917808219178%\n"
     ]
    }
   ],
   "metadata": {}
  },
  {
   "cell_type": "markdown",
   "source": [
    "3️⃣ Classification accuracy "
   ],
   "metadata": {}
  },
  {
   "cell_type": "code",
   "execution_count": 21,
   "source": [
    "tp = 2\r\n",
    "tn = 985\r\n",
    "fp = 2\r\n",
    "fn = 11\r\n",
    "accuracy = (tp + tn) / 1000\r\n",
    "print(accuracy)"
   ],
   "outputs": [
    {
     "output_type": "stream",
     "name": "stdout",
     "text": [
      "0.987\n"
     ]
    }
   ],
   "metadata": {}
  },
  {
   "cell_type": "markdown",
   "source": [
    "4️⃣ Line"
   ],
   "metadata": {}
  },
  {
   "cell_type": "code",
   "execution_count": 10,
   "source": [
    "x1= 4\r\n",
    "y1= 4\r\n",
    "x2= 0\r\n",
    "y2=1\r\n",
    "\r\n",
    "b= 1\r\n",
    "b1= (y2-y1)/ (x2-x1)\r\n",
    "print(b1)\r\n"
   ],
   "outputs": [
    {
     "output_type": "stream",
     "name": "stdout",
     "text": [
      "0.75\n"
     ]
    }
   ],
   "metadata": {}
  },
  {
   "cell_type": "markdown",
   "source": [
    "5️⃣ Euclidean distance"
   ],
   "metadata": {}
  },
  {
   "cell_type": "code",
   "execution_count": 27,
   "source": [
    "x1= 3\r\n",
    "y1= 5\r\n",
    "x2= -2\r\n",
    "y2= 4\r\n",
    "\r\n",
    "distance= ((x1-x2)**2+ (y1-y2)**2)**0.5\r\n",
    "print(distance)"
   ],
   "outputs": [
    {
     "output_type": "stream",
     "name": "stdout",
     "text": [
      "5.0990195135927845\n"
     ]
    }
   ],
   "metadata": {}
  },
  {
   "cell_type": "markdown",
   "source": [
    "6️⃣ Euclidean distance in 3D"
   ],
   "metadata": {}
  },
  {
   "cell_type": "code",
   "execution_count": 29,
   "source": [
    "x1=2\r\n",
    "y1=1\r\n",
    "z1=4\r\n",
    "x2=3\r\n",
    "y2=1\r\n",
    "z2=0\r\n",
    "distance=((x1-x2)**2+(y1-y2)**2+(z1-z2)**2)**0.5\r\n",
    "\r\n",
    "print(distance)"
   ],
   "outputs": [
    {
     "output_type": "stream",
     "name": "stdout",
     "text": [
      "4.123105625617661\n"
     ]
    }
   ],
   "metadata": {}
  }
 ],
 "metadata": {
  "orig_nbformat": 4,
  "language_info": {
   "name": "python",
   "version": "3.9.6",
   "mimetype": "text/x-python",
   "codemirror_mode": {
    "name": "ipython",
    "version": 3
   },
   "pygments_lexer": "ipython3",
   "nbconvert_exporter": "python",
   "file_extension": ".py"
  },
  "kernelspec": {
   "name": "python3",
   "display_name": "Python 3.9.6 64-bit"
  },
  "interpreter": {
   "hash": "5a5fe90e65c548f81cb78b086af2a72a1ccb18c5803a011cbeaa15cf0cb151fe"
  }
 },
 "nbformat": 4,
 "nbformat_minor": 2
}