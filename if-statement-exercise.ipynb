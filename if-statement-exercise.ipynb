{
 "cells": [
  {
   "cell_type": "markdown",
   "source": [
    "1- Check sign"
   ],
   "metadata": {}
  },
  {
   "cell_type": "code",
   "execution_count": 10,
   "source": [
    "num= float(input(\"Enter a number: \"))\r\n",
    "if num >= 0:\r\n",
    "    if num == 0:\r\n",
    "        print(\"Zero\")\r\n",
    "    else:\r\n",
    "        print(\"Positive number \")\r\n",
    "else:\r\n",
    "    print(\"Negative number\")        "
   ],
   "outputs": [
    {
     "output_type": "stream",
     "name": "stdout",
     "text": [
      "Negative number\n"
     ]
    }
   ],
   "metadata": {}
  }
 ],
 "metadata": {
  "orig_nbformat": 4,
  "language_info": {
   "name": "python",
   "version": "3.9.6",
   "mimetype": "text/x-python",
   "codemirror_mode": {
    "name": "ipython",
    "version": 3
   },
   "pygments_lexer": "ipython3",
   "nbconvert_exporter": "python",
   "file_extension": ".py"
  },
  "kernelspec": {
   "name": "python3",
   "display_name": "Python 3.9.6 64-bit"
  },
  "interpreter": {
   "hash": "5a5fe90e65c548f81cb78b086af2a72a1ccb18c5803a011cbeaa15cf0cb151fe"
  }
 },
 "nbformat": 4,
 "nbformat_minor": 2
}